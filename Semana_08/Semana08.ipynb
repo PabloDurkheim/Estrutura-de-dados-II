{
  "nbformat": 4,
  "nbformat_minor": 0,
  "metadata": {
    "colab": {
      "provenance": []
    },
    "kernelspec": {
      "name": "python3",
      "display_name": "Python 3"
    },
    "language_info": {
      "name": "python"
    }
  },
  "cells": [
    {
      "cell_type": "markdown",
      "source": [
        "Student Identification\n",
        "\n",
        "* Full Name 01: **Pablo Durkheim Fernandes do Nascimento**\n",
        "\n",
        "#**Exercise Q&A (1,00 point for grade in Unit 02)**\n",
        "\n",
        "##**Question 01**\n",
        "Consider a network with N nodes. Given a single link, what is the maximum number of nodes that link can connect? Given a single node, what is the maximum number of links that can connect to that node?\n",
        "\n",
        "Answer: **Um link pode se conectar no máximo N-2 nós, devido o fato das extremidades não poderem se conectarem a sí mesmas. Já a quantidade de links que podem se conectar a um único nó é N-1, pois o nó pode se conectar aos outros N nós menos a sí próprio.**\n",
        "\n",
        "##**Question 02**\n",
        "\n",
        "Figure 1: Map of New York in 1880. From Report on the Social Statistics of Cities, Compiled by George E. Waring, Jr., U.S. Census Office, 1886. Image courtesy of University of Texas Libraries.\n",
        "Consider the road map in Figure 1. The grid-like structure of this network means that most nodes have the same degree. What is the most common degree for nodes in this network?\n",
        "\n",
        "Answer: **Para cada nó, parece ter um vizinho por cima, por baixo, na direita e esquerda, resultando em grau 4.**\n",
        "\n",
        "##**Question 03**\n",
        "Consider the road map in Figure 1. Manhattan has a lot of one-way streets. This implies that a good network model of traffic flow would probably have directed links. Consider a subgraph of this network with grid-like connectivity and all one-way streets (i.e. each node is a four-way intersection of two one-way streets). What is the most common in-degree of nodes in this subgraph? What is the most common out-degree?\n",
        "\n",
        "Answer: **Considerando que um nó é uma encruzilhada e as vias são de sentido único, teremos Kin = 2 e Kout = 2.**\n",
        "\n",
        "##**Question 04**\n",
        "What network quantity can we use to represent the volume of traffic between each pair of adjacent intersections in the Manhattan road map (Figure 1)?\n",
        "\n",
        "Answer: **Uma rede dirigida e ponderada, um peso maior significaria um tráfego maior**\n",
        "\n",
        "##**Question 5**\n",
        "Consider a directed network of N nodes. Now consider the total in-degree (i.e. the sum of the in-degree over all nodes in the network). Compare this to the analogous total out-degree. Which of the following must hold true for any such network?\n",
        "\n",
        "1. Total in-degree must be less than total out-degree\n",
        "2. Total in-degree must be greater than total out-degree\n",
        "3. Total in-degree must be equal to total out-degree\n",
        "4. None of these hold true in all instances\n",
        "\n",
        "Answer: **4**\n",
        "\n",
        "##**Question 6**\n",
        "Consider a Twitter retweet network, where users are nodes and we want to show how many times a given user has retweeted another user. What link type best captures this relation? 1.   Undirected, unweighted 2.   Undirected, weighted 3.   Directed, unweighted 4.   Directed, weighted\n",
        "\n",
        "Answer: **4**\n",
        "\n",
        "##**Question 7**\n",
        "Consider a hashtag co-occurrence graph from Twitter. In this network, hashtags are the nodes, and a link between two hashtags indicates how often those two hashtags appear in tweets together. What link type would best capture this relation? \n",
        "1.   Undirected, unweighted \n",
        "2.   Undirected, weighted \n",
        "3.   Directed, unweighted \n",
        "4.   Directed, weighted\n",
        "\n",
        "Answer: **2**\n",
        "\n",
        "#**Question 8**\n",
        "Consider a network created from characters in a story or play. The nodes are people, and a link exists between two nodes if those characters ever engage in dialogue. Which type of edge could represent this relation? Justify your answer. \n",
        "1.   Undirected, unweighted \n",
        "2.   Undirected, weighted \n",
        "3.   Directed, unweighted \n",
        "4.   Directed, weighted\n",
        "\n",
        "Answer: **1**\n",
        "\n",
        "#**Question 9**\n",
        "Suppose we want to make a more complex version of a dialog network that captures how much each character speaks and to whom. What type of link would best represent this relation? \n",
        "1.   Undirected, unweighted \n",
        "2.   Undirected, weighted \n",
        "3.   Directed, unweighted \n",
        "4.   Directed, weighted\n",
        "\n",
        "Answer: **4**\n",
        "\n",
        "##**Question 10**\n",
        "Imagine that your social network has a subnetwork where you and 24 of your friends (25 people total) are all friends with each other. What is such a subnetwork called? And how many links are contained in the subnetwork?\n",
        "\n",
        "Answer: **O nome da sub-rede seria *complete network*, e o número de arestas seria *300*: N(N-1) / 2 -> 25(25-1) / = *300*.**\n",
        "\n",
        "##**Question 11**\n",
        "Consider an undirected network with N nodes. What is the maximum number of links this network can have?\n",
        "\n",
        "Answer: **Lmax = (N*(N-1))/2**\n",
        "\n",
        "##**Question 12**\n",
        "Consider a bipartite network of N nodes, \n",
        " nodes of type 1 and \n",
        " nodes of type 2 (so that \n",
        "). What is the maximum number of links in this network?\n",
        "\n",
        "Answer: **Lmáx = N1 x N2**\n",
        "\n",
        "##**Question 13**\n",
        "Given a complete network A with N nodes, and a bipartite network B also with N nodes, which of the following holds true for any N > 2: \n",
        "\n",
        "1.   Network A has more links than network B \n",
        "2.   Network A has the same number of links as network B \n",
        "3.   Network A has fewer links than network B \n",
        "4.   None of these hold true for all such N > 2\n",
        "\n",
        "Answer: **1**\n",
        "\n",
        "##**Question 14**\n",
        "Consider this adjacency matrix:\n",
        "\n",
        "An entry in the ith row and jth column indicates the weight of the link from node i to node j. For instance, the entry in the second row and third column is 2, meaning the weight of the link from node B to node C is 2. What kind of network does this matrix represent? \n",
        "\n",
        "1.   Undirected, unweighted \n",
        "2.   Undirected, weighted \n",
        "3.   Directed, unweighted \n",
        "4.   Directed, weighted\n",
        "\n",
        "Answer: **4**\n",
        "\n",
        "##**Question 15**\n",
        "We have seen that Facebook’s network is incredibly sparse. Assume it has approximately 1 billion users, each with 1000 friends on average.\n",
        "\n",
        "Suppose Facebook releases its annual report and it shows that while the number of users in the network has stayed the same, the average number of friends per user has increased. Would this imply that the network density increased, decreased, or stayed the same?\n",
        "Suppose instead that both the number of users and the average number of friends per user doubled. Would this imply the network density increased, decreased, or stayed the same?\n",
        "\n",
        "Answer: **Em ambos os casos, o aumento na média de amigos por usuário implicaria em um aumento na densidade da rede.**\n",
        "\n",
        "##**Question 16**\n",
        "Netflix keeps data on customer preferences using a big bipartite network connecting users to titles. Suppose that from 2021 to 2022 Netflix’s library has remained the same size, while the number of users has increased. Further suppose that the average user’s degree in this network has remained constant. Has the density of this network increased, decreased, or stayed the same?\n",
        "\n",
        "Answer: **Foi mostrado essa relação no vídeo sobre densidade: d = (K) / (N-1), onde *d* é a densidade, *k* é o nº médio de vizinhos e *N* é a quantidade de nós. Se o nº de usuários aumentou e o grau médio permanceu o mesmo, significa que a densidade diminuiu.**\n",
        "\n",
        "#**Exercise - Hands On (1,00 point for grade in Unit 02)**\n",
        "\n",
        "Implementing all hands on using NetworkX.\n",
        "\n",
        "##**Hands On 01**\n",
        "Often in the context of trees, a node with degree 1 is called a leaf. Write a function named get_leaves that takes a graph as an argument, loops through the nodes, and returns a list of nodes with degree 1.\n",
        "\n",
        "\n"
      ],
      "metadata": {
        "id": "aNNqGVgjiEjQ"
      }
    },
    {
      "cell_type": "code",
      "source": [
        "import networkx as nx\n",
        "\n",
        "def get_leaves(graph):\n",
        "    leaves = []\n",
        "    for node in graph.nodes:\n",
        "        if graph.degree[node] == 1:\n",
        "            leaves.append(node)\n",
        "    print(leaves)\n",
        "    return leaves"
      ],
      "metadata": {
        "id": "wTD4E1sMRp42"
      },
      "execution_count": 16,
      "outputs": []
    },
    {
      "cell_type": "code",
      "source": [
        "# this block of code is only for networkx adapt it for graph-tool\n",
        "G = nx.Graph()\n",
        "G.add_edges_from([\n",
        "        ('a', 'b'),\n",
        "        ('a', 'd'),\n",
        "        ('c', 'd'),\n",
        "    ])\n",
        "assert set(get_leaves(G)) == {'c', 'b'}"
      ],
      "metadata": {
        "colab": {
          "base_uri": "https://localhost:8080/"
        },
        "id": "_9FZyqx7Shzr",
        "outputId": "6fbf15b9-233b-46e3-c5f6-11006aeb2d21"
      },
      "execution_count": 17,
      "outputs": [
        {
          "output_type": "stream",
          "name": "stdout",
          "text": [
            "['b', 'c']\n"
          ]
        }
      ]
    },
    {
      "cell_type": "markdown",
      "source": [
        "##**Hands On 02**\n",
        "\n",
        "Write a function max_degree that takes a graph as its argument, and returns a 2-tuple with the name and degree of the node with highest degree."
      ],
      "metadata": {
        "id": "cz50Zcr_Svhs"
      }
    },
    {
      "cell_type": "code",
      "source": [
        "import networkx as nx\n",
        "\n",
        "def max_degree(graph):\n",
        "    max_deg = max(graph.degree, key=lambda x: x[1])\n",
        "    max_node = max_deg[0]\n",
        "    max_degree = max_deg[1]\n",
        "    print(max_node, max_degree)\n",
        "    return (max_node, max_degree)\n",
        "    "
      ],
      "metadata": {
        "id": "w9oyj1TWS6-t"
      },
      "execution_count": 14,
      "outputs": []
    },
    {
      "cell_type": "code",
      "source": [
        "import gdown\n",
        "\n",
        "url = 'https://drive.google.com/uc?id=14AMuGDPHac7FOOr7Stw2Jh-l-IWb7n8D'\n",
        "output = 'friends.adjlist'\n",
        "gdown.download(url, output, quiet=False)"
      ],
      "metadata": {
        "colab": {
          "base_uri": "https://localhost:8080/",
          "height": 105
        },
        "id": "vQs1GRc-TPMT",
        "outputId": "e4794f22-fa76-41e1-e6fb-039e9bbd6052"
      },
      "execution_count": 3,
      "outputs": [
        {
          "output_type": "stream",
          "name": "stderr",
          "text": [
            "Downloading...\n",
            "From: https://drive.google.com/uc?id=14AMuGDPHac7FOOr7Stw2Jh-l-IWb7n8D\n",
            "To: /content/friends.adjlist\n",
            "100%|██████████| 109/109 [00:00<00:00, 255kB/s]\n"
          ]
        },
        {
          "output_type": "execute_result",
          "data": {
            "text/plain": [
              "'friends.adjlist'"
            ],
            "application/vnd.google.colaboratory.intrinsic+json": {
              "type": "string"
            }
          },
          "metadata": {},
          "execution_count": 3
        }
      ]
    },
    {
      "cell_type": "code",
      "source": [
        "# this block of code is only for networkx adapt it for graph-tool\n",
        "SG = nx.read_adjlist('friends.adjlist')\n",
        "assert max_degree(SG) == ('Claire', 4)"
      ],
      "metadata": {
        "colab": {
          "base_uri": "https://localhost:8080/"
        },
        "id": "YJR4O0ddTQUo",
        "outputId": "b1956c82-388b-49ca-a0ff-a1ff10689a73"
      },
      "execution_count": 15,
      "outputs": [
        {
          "output_type": "stream",
          "name": "stdout",
          "text": [
            "Claire 4\n"
          ]
        }
      ]
    },
    {
      "cell_type": "markdown",
      "source": [
        "##**Hands on 03**\n",
        "\n",
        "Write a function mutual_friends that takes a graph and two nodes as arguments, and returns a list (or set) of nodes that are linked to both given nodes. For example, in the graph SG drawn above,\n",
        "\n",
        "> mutual_friends(SG, 'Alice', 'Claire') == ['Frank']\n",
        "\n",
        "an empty list or set should be returned in the case where two nodes have no mutual friends, e.g. George and Bob in SG drawn above.\n",
        "\n"
      ],
      "metadata": {
        "id": "NCtZeav9UXHe"
      }
    },
    {
      "cell_type": "code",
      "source": [
        "import networkx as nx\n",
        "def mutual_friends(G, node_1, node_2):\n",
        "    friends_node_1 = set(G.neighbors(node_1))\n",
        "    friends_node_2 = set(G.neighbors(node_2))\n",
        "    mutual_friends = friends_node_1.intersection(friends_node_2)\n",
        "    print(list(mutual_friends))\n",
        "    return list(mutual_friends)"
      ],
      "metadata": {
        "id": "XcG4D6RQUhL3"
      },
      "execution_count": 12,
      "outputs": []
    },
    {
      "cell_type": "code",
      "source": [
        "# this block of code is only for networkx adapt it for graph-tool\n",
        "SG = nx.read_adjlist('friends.adjlist')\n",
        "assert mutual_friends(SG, 'Alice', 'Claire') == ['Frank']\n",
        "assert mutual_friends(SG, 'George', 'Bob') == []\n",
        "assert sorted(mutual_friends(SG, 'Claire', 'George')) == ['Dennis', 'Frank']"
      ],
      "metadata": {
        "colab": {
          "base_uri": "https://localhost:8080/"
        },
        "id": "yhMv1RzgUmds",
        "outputId": "6b239a8b-d295-49ff-c70d-8d4cf6b3a0b4"
      },
      "execution_count": 13,
      "outputs": [
        {
          "output_type": "stream",
          "name": "stdout",
          "text": [
            "['Frank']\n",
            "[]\n",
            "['Frank', 'Dennis']\n"
          ]
        }
      ]
    }
  ]
}